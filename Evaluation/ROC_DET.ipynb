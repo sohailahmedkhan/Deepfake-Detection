{
 "cells": [
  {
   "cell_type": "code",
   "execution_count": 1,
   "id": "13c38dba",
   "metadata": {},
   "outputs": [],
   "source": [
    "from __future__ import print_function\n",
    "import glob\n",
    "from itertools import chain\n",
    "import os\n",
    "import cv2\n",
    "import csv\n",
    "import random\n",
    "import zipfile\n",
    "import os.path as osp\n",
    "import matplotlib.pyplot as plt\n",
    "import numpy as np\n",
    "import pandas as pd\n",
    "import torch\n",
    "from functools import reduce\n",
    "import torch.nn as nn\n",
    "from einops import rearrange, repeat\n",
    "import torch.nn.functional as F\n",
    "import torch.optim as optim\n",
    "import torchvision\n",
    "import pandas as pd\n",
    "from torchvision.transforms import ToPILImage\n",
    "# from linformer import Linformer\n",
    "from PIL import Image\n",
    "from imgaug import augmenters as iaa\n",
    "from sklearn.model_selection import train_test_split\n",
    "from torch.optim.lr_scheduler import StepLR\n",
    "from torch.utils.data import DataLoader, Dataset\n",
    "from torchvision import datasets, transforms\n",
    "from tqdm.notebook import tqdm\n",
    "# from vit_pytorch.efficient import ViT\n",
    "# from model import BiSeNet\n",
    "import torchvision.transforms as transforms\n",
    "from skimage import io, img_as_float\n",
    "import timm\n",
    "from sklearn.metrics import log_loss, f1_score\n",
    "from sklearn.metrics import roc_auc_score\n",
    "from sklearn.metrics import accuracy_score\n",
    "from sklearn import svm, datasets\n",
    "from sklearn import metrics\n",
    "from sklearn.linear_model import LogisticRegression\n",
    "from sklearn.model_selection import train_test_split\n",
    "from sklearn.datasets import load_breast_cancer\n",
    "import matplotlib.pyplot as plt\n"
   ]
  },
  {
   "cell_type": "code",
   "execution_count": 2,
   "id": "225f5569",
   "metadata": {},
   "outputs": [],
   "source": [
    "from TimeSformer.timesformer.models.vit import TimeSformer"
   ]
  },
  {
   "cell_type": "code",
   "execution_count": 3,
   "id": "62df40b9",
   "metadata": {},
   "outputs": [],
   "source": [
    "seed = 17\n",
    "def seed_everything(seed):\n",
    "    random.seed(seed)\n",
    "    os.environ['PYTHONHASHSEED'] = str(seed)\n",
    "    np.random.seed(seed)\n",
    "    torch.manual_seed(seed)\n",
    "    torch.cuda.manual_seed(seed)\n",
    "    torch.cuda.manual_seed_all(seed)\n",
    "    torch.backends.cudnn.deterministic = True\n",
    "\n",
    "seed_everything(seed)"
   ]
  },
  {
   "cell_type": "code",
   "execution_count": 4,
   "id": "5d6fa774",
   "metadata": {},
   "outputs": [],
   "source": [
    "device = 'cuda'\n",
    "# device = 'cpu'"
   ]
  },
  {
   "cell_type": "code",
   "execution_count": 5,
   "id": "dea49b3f",
   "metadata": {},
   "outputs": [],
   "source": [
    "fakeavceleb_paths_df = pd.read_csv('File_Path_Dictionaries/fakeavceleb_paths.csv')\n",
    "celebdf_paths_df = pd.read_csv('File_Path_Dictionaries/celebdf_paths.csv')\n",
    "dfdc_paths_df = pd.read_csv('File_Path_Dictionaries/dfdc_paths.csv')\n",
    "faceswap_paths_df = pd.read_csv('File_Path_Dictionaries/ff_paths.csv')\n",
    "\n",
    "video_fakeavceleb_paths_df = pd.read_csv('Video_File_Path_Dictionaries/fakeavceleb_paths.csv')\n",
    "video_celebdf_paths_df = pd.read_csv('Video_File_Path_Dictionaries/celebdf_paths.csv')\n",
    "video_dfdc_paths_df = pd.read_csv('Video_File_Path_Dictionaries/dfdc_paths.csv')\n",
    "video_faceswap_paths_df = pd.read_csv('Video_File_Path_Dictionaries/ff_paths.csv')"
   ]
  },
  {
   "cell_type": "code",
   "execution_count": 6,
   "id": "4ed5253b",
   "metadata": {},
   "outputs": [],
   "source": [
    "test_set_paths_dictionary = {\n",
    "                            'FakeAVCeleb': [fakeavceleb_paths_df['Path'], fakeavceleb_paths_df['Label']], \n",
    "                            'DFDC': [dfdc_paths_df['Path'], dfdc_paths_df['Label']],\n",
    "                            'CelebDFV2': [celebdf_paths_df['Path'], celebdf_paths_df['Label']],\n",
    "                            'FaceForensics': [faceswap_paths_df['Path'], faceswap_paths_df['Label']]\n",
    "                            }\n",
    "\n",
    "video_test_set_paths_dictionary = {\n",
    "                            'FakeAVCeleb': [video_fakeavceleb_paths_df['Path'], video_fakeavceleb_paths_df['Label']], \n",
    "                            'DFDC': [video_dfdc_paths_df['Path'], video_dfdc_paths_df['Label']],\n",
    "                            'CelebDFV2': [video_celebdf_paths_df['Path'], video_celebdf_paths_df['Label']],\n",
    "                            'FaceForensics': [video_faceswap_paths_df['Path'], video_faceswap_paths_df['Label']]\n",
    "                            }"
   ]
  },
  {
   "cell_type": "code",
   "execution_count": 17,
   "id": "7547593b",
   "metadata": {},
   "outputs": [],
   "source": [
    "import timm\n",
    "models = ['swin_base_patch4_window7_224', 'xception', 'res2net101_26w_4s', 'tf_efficientnet_b7_ns', 'vit_base_patch16_224', \n",
    "          'mvitv2_base', 'ResNet', 'TimeSformer']\n",
    "augs = ['No_Augmentations', 'Random_Cut_Out_Augs', 'Face_Cut_Out_Augs']\n",
    "datasets = ['FakeAVCeleb', 'FaceForensics', 'DFDC', 'CelebDFV2']\n"
   ]
  },
  {
   "cell_type": "code",
   "execution_count": 18,
   "id": "9500ac49",
   "metadata": {},
   "outputs": [],
   "source": [
    "def Evaluate(model, vids_path_dict, dataset):\n",
    "    \n",
    "    imgs_path = vids_path_dict[dataset][0]\n",
    "    count = 0\n",
    "    labels_map = [\"fake\", \"real\"]\n",
    "    predictions = {}\n",
    "    probs = {}\n",
    "    for img in imgs_path:\n",
    "\n",
    "        originallabel = None\n",
    "        if 'fake' in img.split('/')[-3]:\n",
    "            originallabel = 0\n",
    "        elif 'real' in img.split('/')[-3]:\n",
    "            originallabel = 1\n",
    "\n",
    "        count+=1\n",
    "        print(count)\n",
    "        image = img.replace('\\\\','/')\n",
    "        img = Image.open(image)\n",
    "        tfms = transforms.Compose([transforms.Resize((224,224)), transforms.ToTensor(),\n",
    "               transforms.Normalize((0.485, 0.456, 0.406), (0.229, 0.224, 0.225))])\n",
    "        img = tfms(img)\n",
    "        with torch.no_grad():\n",
    "            outputs = model(img.unsqueeze(0).to(device))\n",
    "\n",
    "        predicted_prob = []\n",
    "        predicted_label = None\n",
    "        for idx in torch.topk(outputs[0], k=1).indices.tolist():\n",
    "            prob = torch.softmax(outputs[0], 0)[idx].item()\n",
    "\n",
    "        if labels_map[idx] == 'fake':\n",
    "            predicted_prob = 1 - prob\n",
    "            predictions[image] = [predicted_prob, 0, originallabel]\n",
    "        else:\n",
    "            predicted_prob = prob\n",
    "            print(predicted_prob)\n",
    "            predictions[image] = [predicted_prob, 1, originallabel]\n",
    "        print('--------------')\n",
    "    \n",
    "    torch.cuda.empty_cache()\n",
    "    return predictions\n",
    "\n",
    "def Video_Evaluate(model, vids_path_dict, dataset):\n",
    "    videos = vids_path_dict[dataset][0]\n",
    "    count = 0\n",
    "    labels_map = [\"fake\", \"real\"]\n",
    "    predictions = {}\n",
    "    probs = {}\n",
    "    tfms = transforms.Compose([transforms.Resize((224,224)), transforms.ToTensor(),\n",
    "                transforms.Normalize((0.485, 0.456, 0.406), (0.229, 0.224, 0.225))])\n",
    "    for vid in videos:\n",
    "        fake_prob = 0\n",
    "        real_prob = 0\n",
    "        originallabel = None\n",
    "        if 'fake' in vid.split('/')[-2]:\n",
    "            originallabel = 0\n",
    "        elif 'real' in vid.split('/')[-2]:\n",
    "            originallabel = 1\n",
    "        count+=1\n",
    "        print(count)\n",
    "        images = sorted(glob.glob(vid + '/*.png'))\n",
    "        images = [path.replace('\\\\','/') for path in images]\n",
    "        concated_images_per_video = torch.zeros(1, 3, 224, 224)\n",
    "        for i in range(8):\n",
    "            img_path = images[i]\n",
    "            img = Image.open(img_path)\n",
    "            img_transformed = tfms(img)\n",
    "            img_transformed = img_transformed.unsqueeze(0)\n",
    "            concated_images_per_video = torch.cat((concated_images_per_video, img_transformed), dim=0)\n",
    "        concated_images_per_video = concated_images_per_video[1:]\n",
    "        concated_images_per_video = concated_images_per_video.permute(1, 0, 2, 3)\n",
    "        with torch.no_grad():\n",
    "            outputs = model(concated_images_per_video.unsqueeze(0).to('cuda'))\n",
    "        predicted_prob = []\n",
    "        predicted_label = None\n",
    "        for idx in torch.topk(outputs[0], k=1).indices.tolist():\n",
    "            prob = torch.softmax(outputs[0], 0)[idx].item()\n",
    "        if labels_map[idx] == 'fake':\n",
    "            predicted_prob = 1 - prob\n",
    "            print(predicted_prob)\n",
    "            predictions[vid] = [predicted_prob, 0, originallabel]\n",
    "        else:\n",
    "            predicted_prob = prob\n",
    "            print(predicted_prob)\n",
    "            predictions[vid] = [predicted_prob, 1, originallabel]\n",
    "        print('--------------')\n",
    "    torch.cuda.empty_cache()\n",
    "    return predictions\n",
    "    #     break"
   ]
  },
  {
   "cell_type": "code",
   "execution_count": 19,
   "id": "3f3f0f93",
   "metadata": {},
   "outputs": [],
   "source": [
    "from aquarel import load_theme, Theme\n",
    "plot_colors = [\"#fc358f\", \"#EEA47FFF\", '#101820FF', '#FEE715FF', '#AA96DA', '#317773', '#990011FF', '#00FFFF']\n",
    "theme = (\n",
    "    Theme(name=\"scientific\")\n",
    "    .set_grid(draw=True, width=0.5)\n",
    "#     .set_font(family=\"monospace\")\n",
    "    .set_color(palette=plot_colors, plot_background_color=\"#FFFDFB\")\n",
    ")"
   ]
  },
  {
   "cell_type": "code",
   "execution_count": 1,
   "id": "0ea975d5",
   "metadata": {
    "scrolled": true
   },
   "outputs": [],
   "source": [
    "for dataset in datasets:\n",
    "    for model_name in models:\n",
    "        # Load model weights\n",
    "        PATH = '../model_weights/supervised_models/' + model_name + '/' + augs[1] + '/' + dataset + '/' + '/'\n",
    "        for file in os.listdir(PATH):\n",
    "            if file.endswith(\".pth\"):\n",
    "                model_path = os.path.join(PATH, file)\n",
    "                model_path = model_path.replace(\"//\", \"/\")\n",
    "                print(model_path)\n",
    "                if model_name == 'ResNet':\n",
    "                    model = torch.hub.load('facebookresearch/pytorchvideo', 'slow_r50', model_num_class=2)\n",
    "                    model.load_state_dict(torch.load(model_path), strict=True)\n",
    "                    model.to(device)\n",
    "                    model.eval()\n",
    "                    print(\"loaded \" + model_name + \" weights!\")\n",
    "                    print('Evaluating ' + model_name + ' on ' + dataset + ' trained on ' + dataset)\n",
    "                    predictions = Video_Evaluate(model, video_test_set_paths_dictionary, dataset)\n",
    "                elif model_name == 'TimeSformer':\n",
    "                    model = TimeSformer(img_size=224, num_classes=2, num_frames=8, attention_type='divided_space_time',\n",
    "                            pretrained_model='../video_model_pretraining_weights/TimeSformer_divST_8x32_224_K400.pyth')\n",
    "                    model.load_state_dict(torch.load(model_path), strict=True)\n",
    "                    model.to(device)\n",
    "                    model.eval()\n",
    "                    print(\"loaded \" + model_name + \" weights!\")\n",
    "                    print('Evaluating ' + model_name + ' on ' + dataset + ' trained on ' + dataset)\n",
    "                    predictions = Video_Evaluate(model, video_test_set_paths_dictionary, dataset)\n",
    "                elif model_name == 'swin_base_patch4_window7_224':\n",
    "                    model = timm.create_model(model_name, pretrained=False, \n",
    "                            pretrained_cfg_overlay=dict(file=model_path),\n",
    "                            num_classes=2).to(device)\n",
    "                    model.load_state_dict(torch.load(model_path), strict=True)\n",
    "                    model.to(device)\n",
    "                    model.eval()\n",
    "                    print(\"loaded \" + model_name + \" weights!\")\n",
    "                    print('Evaluating ' + model_name + ' on ' + dataset + ' trained on ' + dataset)\n",
    "                    predictions = Evaluate(model, test_set_paths_dictionary, dataset)\n",
    "                else:\n",
    "                    model = timm.create_model(model_name, pretrained=True, num_classes=2).to(device)\n",
    "                    model.load_state_dict(torch.load(model_path), strict=True)\n",
    "                    model.to(device)\n",
    "                    model.eval()\n",
    "                    print(\"loaded \" + model_name + \" weights!\")\n",
    "                    print('Evaluating ' + model_name + ' on ' + dataset + ' trained on ' + dataset)\n",
    "#                     save_path = ('CrossEvaluationTestScores/Image_by_Image_Evaluation/' + model_name + '_trained_on_' + \n",
    "#                                  dataset)\n",
    "                    predictions = Evaluate(model, test_set_paths_dictionary, dataset)\n",
    "        true_labels = []\n",
    "        predicted_labels = []\n",
    "        predicted_probs = []\n",
    "        for key, value in predictions.items():\n",
    "            predicted_probs.append(value[0])\n",
    "            true_labels.append(value[2])\n",
    "            predicted_labels.append(value[1])\n",
    "        if model_name == 'xception':\n",
    "            xception_fpr, xception_tpr, _ = metrics.det_curve(true_labels, predicted_probs)\n",
    "#             xception_auc = metrics.roc_auc_score(true_labels, predicted_probs)\n",
    "        elif model_name == 'res2net101_26w_4s':\n",
    "            res2net_fpr, res2net_tpr, _ = metrics.det_curve(true_labels,  predicted_probs)\n",
    "#             res2net_auc = metrics.roc_auc_score(true_labels, predicted_probs)\n",
    "        elif model_name == 'tf_efficientnet_b7_ns':\n",
    "            efficientnet_fpr, efficientnet_tpr, _ = metrics.det_curve(true_labels,  predicted_probs)\n",
    "#             efficientnet_auc = metrics.roc_auc_score(true_labels, predicted_probs)\n",
    "        elif model_name == 'vit_base_patch16_224':\n",
    "            vit_fpr, vit_tpr, _ = metrics.det_curve(true_labels,  predicted_probs)\n",
    "#             vit_auc = metrics.roc_auc_score(true_labels, predicted_probs)\n",
    "        elif model_name == 'swin_base_patch4_window7_224':\n",
    "            swin_fpr, swin_tpr, _ = metrics.det_curve(true_labels,  predicted_probs)\n",
    "#             swin_auc = metrics.roc_auc_score(true_labels, predicted_probs)\n",
    "        elif model_name == 'mvitv2_base':\n",
    "            mvitv2_fpr, mvitv2_tpr, _ = metrics.det_curve(true_labels,  predicted_probs)\n",
    "#             mvitv2_auc = metrics.roc_auc_score(true_labels, predicted_probs)\n",
    "        elif model_name == 'ResNet':\n",
    "            resnet_fpr, resnet_tpr, _ = metrics.det_curve(true_labels,  predicted_probs)\n",
    "#             resnet_auc = metrics.roc_auc_score(true_labels, predicted_probs)\n",
    "        elif model_name == 'TimeSformer':\n",
    "            timesformer_fpr, timesformer_tpr, _ = metrics.det_curve(true_labels,  predicted_probs)\n",
    "#             timesformer_auc = metrics.roc_auc_score(true_labels, predicted_probs)\n",
    "    \n",
    "    with theme:       \n",
    "        plt.plot(xception_fpr,xception_tpr,label=\"Xception\")\n",
    "        plt.plot(res2net_fpr,res2net_tpr,label=\"Res2Net\")\n",
    "        plt.plot(efficientnet_fpr,efficientnet_tpr,label=\"EfficientNet\")\n",
    "        plt.plot(vit_fpr,vit_tpr,label=\"ViT\")\n",
    "        plt.plot(swin_fpr,swin_tpr,label=\"Swin\")\n",
    "        plt.plot(mvitv2_fpr,mvitv2_tpr,label=\"MViT\")\n",
    "        plt.plot(resnet_fpr,resnet_tpr,label=\"ResNet 3D\")\n",
    "        plt.plot(timesformer_fpr,timesformer_tpr,label=\"TimeSformer\")\n",
    "        plt.legend(loc=1)\n",
    "        # plt.axis('off')\n",
    "        plt.savefig(\"NEW_\" + str(dataset) + '_' + augs[1] + \"_det.png\", bbox_inches='tight', pad_inches=0, dpi=300)\n",
    "        plt.clf()\n",
    "        plt.cla()\n",
    "        plt.close()\n",
    "    print('====================================================================================================')\n",
    "    print('')\n",
    "    print('')\n"
   ]
  },
  {
   "cell_type": "markdown",
   "id": "7013265c",
   "metadata": {},
   "source": [
    "# ROC Curve"
   ]
  },
  {
   "cell_type": "code",
   "execution_count": 8,
   "id": "a2b8a5c7",
   "metadata": {},
   "outputs": [],
   "source": [
    "from sklearn import svm, datasets\n",
    "from sklearn import metrics\n",
    "from sklearn.linear_model import LogisticRegression\n",
    "from sklearn.model_selection import train_test_split\n",
    "from sklearn.datasets import load_breast_cancer\n",
    "import matplotlib.pyplot as plt"
   ]
  },
  {
   "cell_type": "code",
   "execution_count": 11,
   "id": "c5c669e3",
   "metadata": {},
   "outputs": [
    {
     "name": "stdout",
     "output_type": "stream",
     "text": [
      "0           0.9999955892562866\n",
      "1           0.9999945163726807\n",
      "2            0.999990701675415\n",
      "3           0.9999920129776001\n",
      "4           0.9999855756759644\n",
      "                 ...          \n",
      "1997    0.00014328956604003906\n",
      "1998    0.00011324882507324219\n",
      "1999    0.00010669231414794922\n",
      "2000                       AUC\n",
      "2001                  0.999963\n",
      "Name: ProbabilityScore, Length: 2002, dtype: object\n"
     ]
    }
   ],
   "source": [
    "import pandas as pd\n",
    "\n",
    "df = pd.read_csv(r'CrossEvaluationTestScores/Image_by_Image_Evaluation/mvitv2_base_trained_on_CelebDFV2_evaluated_on_CelebDFV2.csv')\n",
    "print(df['ProbabilityScore'])"
   ]
  },
  {
   "cell_type": "code",
   "execution_count": 12,
   "id": "9955269d",
   "metadata": {},
   "outputs": [],
   "source": [
    "#xception dfdc\n",
    "true_labels = []\n",
    "predicted_labels = []\n",
    "predicted_probs = []\n",
    "for key, value in predictions.items():\n",
    "    predicted_probs.append(value[0])\n",
    "    true_labels.append(value[2])\n",
    "    predicted_labels.append(value[1])\n",
    "    \n",
    "# y_pred_proba = predicted_probs\n",
    "# y_test = true_labels\n",
    "fpr, tpr, _ = metrics.roc_curve(y_test,  y_pred_proba)\n",
    "auc = metrics.roc_auc_score(y_test, y_pred_proba)\n",
    "plt.plot(fpr,tpr,label=\"Xception, auc=\"+str(round(auc*100, 2)))\n",
    "plt.plot(swinfpr,swintpr,label=\"Swin, auc=\"+str(round(swinauc*100, 2)))\n",
    "plt.legend(loc=4)\n",
    "# plt.axis('off')\n",
    "plt.savefig(\"roc.png\", bbox_inches='tight', pad_inches=0, dpi=300)\n",
    "plt.show()\n"
   ]
  },
  {
   "cell_type": "markdown",
   "id": "3eea219e",
   "metadata": {},
   "source": [
    "## Accuracy"
   ]
  },
  {
   "cell_type": "code",
   "execution_count": 11,
   "id": "636d17ba",
   "metadata": {},
   "outputs": [
    {
     "data": {
      "text/plain": [
       "0.99925"
      ]
     },
     "execution_count": 11,
     "metadata": {},
     "output_type": "execute_result"
    }
   ],
   "source": [
    "from sklearn.metrics import accuracy_score\n",
    "\n",
    "true_labels = []\n",
    "predicted_labels = []\n",
    "predicted_probs = []\n",
    "\n",
    "for key, value in predictions.items():\n",
    "    predicted_probs.append(value[0])\n",
    "    true_labels.append(value[2])\n",
    "    predicted_labels.append(value[1])\n",
    "    \n",
    "acc = accuracy_score(true_labels, predicted_labels)\n",
    "acc"
   ]
  },
  {
   "cell_type": "markdown",
   "id": "18feed39",
   "metadata": {},
   "source": [
    "# Confusion Matrix"
   ]
  },
  {
   "cell_type": "code",
   "execution_count": 33,
   "id": "4f7c4912",
   "metadata": {},
   "outputs": [
    {
     "data": {
      "text/plain": [
       "array([[2000,    0],\n",
       "       [   3, 1997]], dtype=int64)"
      ]
     },
     "execution_count": 33,
     "metadata": {},
     "output_type": "execute_result"
    }
   ],
   "source": [
    "from sklearn.metrics import confusion_matrix\n",
    "\n",
    "true_labels = []\n",
    "predicted_labels = []\n",
    "predicted_probs = []\n",
    "\n",
    "for key, value in predictions.items():\n",
    "    predicted_probs.append(value[0])\n",
    "    true_labels.append(value[2])\n",
    "    predicted_labels.append(value[1])\n",
    "    \n",
    "confmtrx = confusion_matrix(true_labels, predicted_labels)\n",
    "confmtrx"
   ]
  },
  {
   "cell_type": "code",
   "execution_count": 37,
   "id": "6ec61263",
   "metadata": {},
   "outputs": [
    {
     "data": {
      "image/png": "[encoded data removed]",
      "text/plain": [
       "<Figure size 432x288 with 2 Axes>"
      ]
     },
     "metadata": {
      "needs_background": "light"
     },
     "output_type": "display_data"
    }
   ],
   "source": [
    "import seaborn as sns\n",
    "import matplotlib.pyplot as plt     \n",
    "\n",
    "ax= plt.subplot()\n",
    "sns.heatmap(confmtrx, annot=True, fmt='g', ax=ax, cmap='Greens');  #annot=True to annotate cells, ftm='g' to disable scientific notation\n",
    "\n",
    "# labels, title and ticks\n",
    "ax.set_xlabel('Predicted labels');ax.set_ylabel('True labels'); \n",
    "ax.set_title('Confusion Matrix'); \n",
    "ax.xaxis.set_ticklabels(['fake', 'real']); ax.yaxis.set_ticklabels(['fake', 'real']);"
   ]
  },
  {
   "cell_type": "code",
   "execution_count": null,
   "id": "1f0af1ea",
   "metadata": {},
   "outputs": [],
   "source": []
  }
 ],
 "metadata": {
  "kernelspec": {
   "display_name": "Python 3 (ipykernel)",
   "language": "python",
   "name": "python3"
  },
  "language_info": {
   "codemirror_mode": {
    "name": "ipython",
    "version": 3
   },
   "file_extension": ".py",
   "mimetype": "text/x-python",
   "name": "python",
   "nbconvert_exporter": "python",
   "pygments_lexer": "ipython3",
   "version": "3.9.7"
  }
 },
 "nbformat": 4,
 "nbformat_minor": 5
}
